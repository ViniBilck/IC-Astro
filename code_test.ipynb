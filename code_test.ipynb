{
 "cells": [
  {
   "cell_type": "code",
   "execution_count": 1,
   "id": "3eb7e55f-a82d-4cae-b4b6-97c97961c950",
   "metadata": {},
   "outputs": [],
   "source": [
    "from tables import *\n",
    "import numpy as np"
   ]
  },
  {
   "cell_type": "code",
   "execution_count": 2,
   "id": "8c707038-e9fe-4c87-9ab6-229056e35c07",
   "metadata": {},
   "outputs": [
    {
     "name": "stdout",
     "output_type": "stream",
     "text": [
      "/ (RootGroup) ''\n"
     ]
    }
   ],
   "source": [
    "with open_file(\"Data/Coord_Data.hdf5\", mode=\"w\") as data:\n",
    "    data.create_group('/','Header')\n",
    "    data.root.Header._v_attrs.__delitem__(\"VERSION\")\n",
    "    data.root.Header._v_attrs.__delitem__(\"TITLE\")\n",
    "    data.root.Header._v_attrs.__delitem__(\"CLASS\")\n",
    "    for _ in range(5):\n",
    "        data.create_group('/',f'PartType{_}')\n",
    "    data.root.Header._v_attrs.MassTable = np.array([0., 0., 0.00023252, 0.00023252])\n",
    "    data.root.Header._v_attrs.NumPart_ThisFile = np.array([0, 0, 30000, 10000], dtype = np.uint32)\n",
    "    data.root.Header._v_attrs.NumPart_Total = np.array([0, 0, 30000, 10000], dtype = np.uint64)\n",
    "    print(data.root)"
   ]
  },
  {
   "cell_type": "code",
   "execution_count": 3,
   "id": "b27e147c-8259-4338-8025-dac70f17126c",
   "metadata": {},
   "outputs": [],
   "source": [
    "data = open_file(\"Data/Coord_Data.hdf5\", mode=\"a\")\n"
   ]
  },
  {
   "cell_type": "code",
   "execution_count": 5,
   "id": "5e3c8bba-ecde-4ae6-99da-3f623ed6a10f",
   "metadata": {},
   "outputs": [
    {
     "data": {
      "text/plain": [
       "/ (RootGroup) ''\n",
       "  children := ['Header' (Group), 'PartType0' (Group), 'PartType1' (Group), 'PartType2' (Group), 'PartType3' (Group), 'PartType4' (Group)]"
      ]
     },
     "execution_count": 5,
     "metadata": {},
     "output_type": "execute_result"
    }
   ],
   "source": [
    "data.root\n"
   ]
  },
  {
   "cell_type": "code",
   "execution_count": 4,
   "id": "0b6eb1ba-f580-48f8-8b6a-be6055b19411",
   "metadata": {},
   "outputs": [
    {
     "data": {
      "text/plain": [
       "/Header._v_attrs (AttributeSet), 5 attributes:\n",
       "   [CLASS := 'GROUP',\n",
       "    MassTable := array([0.        , 0.        , 0.00023252, 0.00023252]),\n",
       "    NumPart_ThisFile := array([    0,     0, 30000, 10000], dtype=uint32),\n",
       "    NumPart_Total := array([    0,     0, 30000, 10000], dtype=uint64),\n",
       "    VERSION := '1.0']"
      ]
     },
     "execution_count": 4,
     "metadata": {},
     "output_type": "execute_result"
    }
   ],
   "source": [
    "data.root.Header._v_attrs"
   ]
  },
  {
   "cell_type": "code",
   "execution_count": null,
   "id": "ab828485-1ad7-431e-b904-83c9b023401a",
   "metadata": {},
   "outputs": [],
   "source": []
  }
 ],
 "metadata": {
  "kernelspec": {
   "display_name": "Python 3 (ipykernel)",
   "language": "python",
   "name": "python3"
  },
  "language_info": {
   "codemirror_mode": {
    "name": "ipython",
    "version": 3
   },
   "file_extension": ".py",
   "mimetype": "text/x-python",
   "name": "python",
   "nbconvert_exporter": "python",
   "pygments_lexer": "ipython3",
   "version": "3.9.7"
  }
 },
 "nbformat": 4,
 "nbformat_minor": 5
}
