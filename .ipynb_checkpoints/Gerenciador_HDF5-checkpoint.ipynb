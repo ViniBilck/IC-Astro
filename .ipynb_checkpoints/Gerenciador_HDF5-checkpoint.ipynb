{
 "cells": [
  {
   "cell_type": "code",
   "execution_count": 1,
   "id": "c7ae3440-c281-4129-92c0-31f5376ed77e",
   "metadata": {},
   "outputs": [],
   "source": [
    "from tables import *\n",
    "import matplotlib.pyplot as plt\n",
    "import numpy as np\n",
    "import Gerador as gg\n",
    "\n",
    "plt.style.use('seaborn-bright')\n",
    "plt.rcParams['font.family'] = 'serif'\n",
    "plt.rcParams['mathtext.fontset'] = 'stix'\n",
    "plt.rcParams['axes.labelsize'] = 19\n",
    "plt.rcParams['axes.linewidth'] = 1.5\n",
    "plt.rcParams['xtick.labelsize'] = 19\n",
    "plt.rcParams['ytick.labelsize'] = 19\n",
    "plt.rcParams['legend.fontsize'] = 14\n",
    "plt.rcParams['figure.figsize'] = (19, 8)\n",
    "plt.rcParams['lines.linewidth'] = 2\n"
   ]
  },
  {
   "cell_type": "code",
   "execution_count": 3,
   "id": "38f1e9c0-2a88-4ab5-9f85-9af97737a89b",
   "metadata": {},
   "outputs": [],
   "source": [
    "coord, p_z =  gg.cd.galaxia(7.0, 1.0, 1.0, 30000)\n",
    "bojo = gg.cd.bulge_coord(1, 0.6, 10000)\n",
    "\n"
   ]
  },
  {
   "cell_type": "code",
   "execution_count": 5,
   "id": "d3659dc2-9bfb-40b1-9910-d5a82389911a",
   "metadata": {},
   "outputs": [],
   "source": [
    "vel_mod = gg.vd.velocity_module(coord)\n",
    "vel_mod_b = gg.vd.velocity_module(bojo)\n",
    "veloc = gg.vd.velocity_vector(coord, vel_mod)\n",
    "veloc_bojo = gg.vd.velocity_vector(bojo, vel_mod_b)"
   ]
  },
  {
   "cell_type": "code",
   "execution_count": null,
   "id": "f1a15642-d258-494c-80a4-20326ffd3114",
   "metadata": {},
   "outputs": [],
   "source": [
    "data = open_file(\"Data/IC_file.hdf5\", \"r\")"
   ]
  },
  {
   "cell_type": "code",
   "execution_count": null,
   "id": "3b0b3b95-3a20-4211-9f1e-fde8c0f88b99",
   "metadata": {},
   "outputs": [],
   "source": [
    "def plot_hist(name):\n",
    "    arq1 = open_file(f\"output/{name}.hdf5\", \"r\")\n",
    "    vel2 = arq1.root.PartType2.Velocities[::]\n",
    "    modulo2 = np.linalg.norm(vel2, axis=1)\n",
    "    plt.hist(modulo2)\n",
    "\n",
    "def plot_scat(name, t, titulo):\n",
    "    arq1 = open_file(f\"output/{name}.hdf5\", \"r\")\n",
    "    vel = arq1.root.PartType2.Velocities[::]\n",
    "    coord = arq1.root.PartType2.Coordinates[::]\n",
    "    modulo_vel = np.linalg.norm(vel, axis=1)\n",
    "    modulo_pos = np.linalg.norm(coord, axis=1)\n",
    "    plt.hist2d(modulo_vel, modulo_pos, bins = 30, range = ((0,200), (0,25)))\n",
    "    plt.xlabel(r\"$|\\vec{V}|$ [Km/s]\")\n",
    "    plt.ylabel(\"|Coordenadas| [Kpc]\")\n",
    "    plt.text(175,24, f\"t = {t:.2f} Gyr\", fontsize=15, color= \"red\")\n",
    "    plt.title(f\"{titulo}\")\n",
    "    plt.colorbar().set_label(\"N de Partículas\")"
   ]
  },
  {
   "cell_type": "markdown",
   "id": "d0656524-b4df-4e14-9763-0c54c8bfe71a",
   "metadata": {},
   "source": [
    "---------------"
   ]
  },
  {
   "cell_type": "code",
   "execution_count": null,
   "id": "c50bb70d-f2ed-4ffb-b04f-3fa25051f690",
   "metadata": {},
   "outputs": [],
   "source": [
    "plot_scat(\"sim_020\")"
   ]
  },
  {
   "cell_type": "markdown",
   "id": "36dd5791-51dd-465b-9f99-eb2cea19ff93",
   "metadata": {
    "tags": []
   },
   "source": [
    "## Massa, N de particulas, Tipos\n",
    "Escolher atriputos da simulação"
   ]
  },
  {
   "cell_type": "code",
   "execution_count": 13,
   "id": "b34a060e-be6c-4cd6-971d-f62b4d9d858a",
   "metadata": {},
   "outputs": [],
   "source": [
    "arq = open_file(\"Data/IC_file.hdf5\", \"a\")"
   ]
  },
  {
   "cell_type": "code",
   "execution_count": 14,
   "id": "9388cd15-eade-4fd1-b83a-2dcd86459605",
   "metadata": {},
   "outputs": [
    {
     "data": {
      "text/plain": [
       "/Header._v_attrs (AttributeSet), 9 attributes:\n",
       "   [BoxSize := 0.0,\n",
       "    Git_commit := b'7359b7047192d90c784683377d70035f5e669786',\n",
       "    Git_date := b'Sat Jan 22 14:18:39 2022 +0100',\n",
       "    MassTable := array([0.        , 0.        , 0.00023252, 0.00023252]),\n",
       "    NumFilesPerSnapshot := 1,\n",
       "    NumPart_ThisFile := array([    0,     0, 30000, 10000], dtype=uint32),\n",
       "    NumPart_Total := array([    0,     0, 30000, 10000], dtype=uint64),\n",
       "    Redshift := 0.0,\n",
       "    Time := 0.0]"
      ]
     },
     "execution_count": 14,
     "metadata": {},
     "output_type": "execute_result"
    }
   ],
   "source": [
    "arq.root.Header._v_attrs"
   ]
  },
  {
   "cell_type": "code",
   "execution_count": null,
   "id": "d8802941-0457-4c1c-83b3-581bdf1572c9",
   "metadata": {},
   "outputs": [],
   "source": [
    "dir(arq.root.PartType2.Coordinates)"
   ]
  },
  {
   "cell_type": "code",
   "execution_count": null,
   "id": "cd3b72c2-a72b-46ed-8dd1-3add8dd9efd3",
   "metadata": {},
   "outputs": [],
   "source": [
    "arq.root.PartType2.Coordinates.ndim"
   ]
  },
  {
   "cell_type": "code",
   "execution_count": null,
   "id": "ae0d41d1-acf6-4d38-bec4-a6b9b14346e3",
   "metadata": {},
   "outputs": [],
   "source": []
  },
  {
   "cell_type": "code",
   "execution_count": null,
   "id": "217009af-166f-4c2c-b509-009dd12c0520",
   "metadata": {},
   "outputs": [],
   "source": [
    "arq.root.PartType2.Coordinates.shape = (20,3)"
   ]
  },
  {
   "cell_type": "code",
   "execution_count": 11,
   "id": "a173f2d0-31fe-4976-8678-7d77ed113d5e",
   "metadata": {},
   "outputs": [],
   "source": [
    "mass = np.array([0, 0, 0.00023252, 0.00023252])\n",
    "NumPart_ThisFile = np.array([0, 0, 30000, 10000], dtype = np.uint32)\n",
    "NumPart_Total = np.array([0, 0, 30000, 10000], dtype = np.uint64)\n",
    "arq.root.Header._v_attrs.MassTable = mass\n",
    "arq.root.Header._v_attrs.NumPart_ThisFile = NumPart_ThisFile\n",
    "arq.root.Header._v_attrs.NumPart_Total = NumPart_Total"
   ]
  },
  {
   "cell_type": "code",
   "execution_count": 12,
   "id": "33a2ba05-98c9-47f3-ae9a-fa20fde633d1",
   "metadata": {},
   "outputs": [],
   "source": [
    "arq.close()"
   ]
  },
  {
   "cell_type": "markdown",
   "id": "26f78145-e5dd-4f87-9be1-45b055850021",
   "metadata": {},
   "source": [
    "## Tipo de Particulas\n",
    "Dado um array de comprimento 6, cada componente representa um tipo de particula, sendo elas em ordem \n",
    "\"Gas\", \"Halo\", \"Disk\", \"Bulge\", \"Stars\", and \"Bndry\""
   ]
  },
  {
   "cell_type": "code",
   "execution_count": 2,
   "id": "32f29828-2c87-43f5-8f31-6556a0bbc398",
   "metadata": {},
   "outputs": [],
   "source": [
    "arq = open_file(\"Data/IC_file.hdf5\", \"a\")\n"
   ]
  },
  {
   "cell_type": "code",
   "execution_count": 10,
   "id": "bc47d5b3-76bb-474b-87d0-0ba4f95727a0",
   "metadata": {},
   "outputs": [],
   "source": [
    "arq.root.PartType3.ParticlesIDs._f_rename(\"ParticleIDs\")"
   ]
  },
  {
   "cell_type": "code",
   "execution_count": 37,
   "id": "5cd8dc0a-296a-401d-b332-b7bfa1b1e052",
   "metadata": {},
   "outputs": [],
   "source": [
    "\n",
    "## arq.create_group(\"/\", 'PartType2', 'Disk') ##Criando Grupo\n",
    "arq.root.PartType3._f_remove(force=True)"
   ]
  },
  {
   "cell_type": "code",
   "execution_count": null,
   "id": "7f0bfc1c-e169-4be7-ba44-9455280c9ca8",
   "metadata": {},
   "outputs": [],
   "source": [
    "arq.root.PartType1._f_rename(\"PartType2\")"
   ]
  },
  {
   "cell_type": "code",
   "execution_count": 38,
   "id": "1b7565d7-8a8f-4212-8f46-d7b46ebf93f4",
   "metadata": {},
   "outputs": [
    {
     "data": {
      "text/plain": [
       "/PartType3 (Group) ''\n",
       "  children := []"
      ]
     },
     "execution_count": 38,
     "metadata": {},
     "output_type": "execute_result"
    }
   ],
   "source": [
    "arq.create_group(\"/\", 'PartType3')"
   ]
  },
  {
   "cell_type": "code",
   "execution_count": 41,
   "id": "98a9b1ca-2d36-4fee-bbf8-3829acd538bd",
   "metadata": {},
   "outputs": [
    {
     "data": {
      "text/plain": [
       "/PartType3/ParticlesIDs (Array(10000,)) ''\n",
       "  atom := Int64Atom(shape=(), dflt=0)\n",
       "  maindim := 0\n",
       "  flavor := 'numpy'\n",
       "  byteorder := 'little'\n",
       "  chunkshape := None"
      ]
     },
     "execution_count": 41,
     "metadata": {},
     "output_type": "execute_result"
    }
   ],
   "source": [
    "arq.create_array(arq.root.PartType3, 'ParticlesIDs', np.arange(30001,40001,1))"
   ]
  },
  {
   "cell_type": "code",
   "execution_count": 24,
   "id": "0fbdc0c1-6d61-4349-88c4-c73e0d61ccf4",
   "metadata": {},
   "outputs": [
    {
     "data": {
      "text/plain": [
       "30000"
      ]
     },
     "execution_count": 24,
     "metadata": {},
     "output_type": "execute_result"
    }
   ],
   "source": [
    "len(np.arange(0,30000,1))"
   ]
  },
  {
   "cell_type": "code",
   "execution_count": 11,
   "id": "dffe7ffc-169c-422e-8fd8-e3bc6bc680c8",
   "metadata": {},
   "outputs": [],
   "source": [
    "arq.close()"
   ]
  },
  {
   "cell_type": "markdown",
   "id": "cd4b0a94-bde4-4fa0-a9bc-588f8bcd2290",
   "metadata": {},
   "source": [
    "## Formato \n",
    "Escolhendo forma de como as particulas estarão distribuidas e a velocidade"
   ]
  },
  {
   "cell_type": "code",
   "execution_count": 2,
   "id": "8b0658d2-4914-4fea-9999-a497eff0ceb3",
   "metadata": {},
   "outputs": [
    {
     "data": {
      "text/plain": [
       "/ (RootGroup) ''\n",
       "  children := ['Header' (Group), 'PartType2' (Group)]"
      ]
     },
     "execution_count": 2,
     "metadata": {},
     "output_type": "execute_result"
    }
   ],
   "source": [
    "data = open_file(\"Data/IC_file.hdf5\", \"r\")\n",
    "data.root"
   ]
  },
  {
   "cell_type": "code",
   "execution_count": 5,
   "id": "123646e1-94da-44c3-94e9-d9ae186a1f16",
   "metadata": {},
   "outputs": [],
   "source": [
    "coord = data.root.PartType2.Coordinates[::] \n",
    "## data.root.PartType2.Velocities[::] = veloc"
   ]
  },
  {
   "cell_type": "code",
   "execution_count": 6,
   "id": "56fbaa2a-2ff1-4365-9666-48c0a6991e4f",
   "metadata": {},
   "outputs": [
    {
     "data": {
      "text/plain": [
       "array([ 6.825888 ,  3.1331022,  1.0227294, ..., 10.833308 ,  6.188091 ,\n",
       "        7.3243766], dtype=float32)"
      ]
     },
     "execution_count": 6,
     "metadata": {},
     "output_type": "execute_result"
    }
   ],
   "source": [
    "np.linalg.norm(coord, axis=1)"
   ]
  },
  {
   "cell_type": "code",
   "execution_count": 7,
   "id": "b078cb81-6f46-4251-9f76-556b2c618ba0",
   "metadata": {},
   "outputs": [
    {
     "data": {
      "text/plain": [
       "array([[ 4.3769956 ,  5.2362027 , -0.1297727 ],\n",
       "       [-3.0920281 ,  0.3836315 ,  0.32941967],\n",
       "       [ 0.8284675 , -0.5934276 ,  0.086375  ],\n",
       "       ...,\n",
       "       [ 7.791093  ,  7.5259767 , -0.1382072 ],\n",
       "       [ 3.797455  , -4.8494344 ,  0.5956378 ],\n",
       "       [-6.418987  , -3.495849  ,  0.471318  ]], dtype=float32)"
      ]
     },
     "execution_count": 7,
     "metadata": {},
     "output_type": "execute_result"
    }
   ],
   "source": [
    "data.root.PartType2.Coordinates[::]"
   ]
  },
  {
   "cell_type": "code",
   "execution_count": 8,
   "id": "7604c9e1-c5cb-4c33-8448-d4d965b118ed",
   "metadata": {},
   "outputs": [],
   "source": [
    "data.close()"
   ]
  },
  {
   "cell_type": "code",
   "execution_count": null,
   "id": "150c444d-48e4-4a2e-b735-17fdef7a114d",
   "metadata": {},
   "outputs": [],
   "source": [
    "arq.root.PartType2.ParticleIDs "
   ]
  },
  {
   "cell_type": "code",
   "execution_count": null,
   "id": "0dae94fc-2735-4b11-987d-980cb158b8ca",
   "metadata": {},
   "outputs": [],
   "source": [
    "Particulas = np.arange(0,40000,1, dtype=np.uint32)"
   ]
  },
  {
   "cell_type": "code",
   "execution_count": null,
   "id": "522a4b47-adfd-47ac-8543-59f5eef0fd6b",
   "metadata": {},
   "outputs": [],
   "source": [
    "Particulas.shape"
   ]
  },
  {
   "cell_type": "markdown",
   "id": "459f4580-0f74-4c75-82c6-a94e254ace48",
   "metadata": {},
   "source": [
    "## Gráficos\n",
    "Visualizando se a esfera foi construida corretamente"
   ]
  },
  {
   "cell_type": "code",
   "execution_count": 7,
   "id": "c84f2ddd-26ee-45f7-b67e-33d2b4b5571a",
   "metadata": {},
   "outputs": [],
   "source": [
    "arq = open_file(\"Data/IC_file.hdf5\", \"r\")\n",
    "vet = arq.root.PartType2.Coordinates[::]\n",
    "vet_x = vet[:,[0]].flatten()\n",
    "vet_y = vet[:,[1]].flatten()\n",
    "vet_z = vet[:,[2]].flatten()"
   ]
  },
  {
   "cell_type": "code",
   "execution_count": 8,
   "id": "fd5c6e15-ed48-4dd6-ba1b-47553039c68a",
   "metadata": {},
   "outputs": [
    {
     "name": "stderr",
     "output_type": "stream",
     "text": [
      "libGL error: MESA-LOADER: failed to open iris: /usr/lib/dri/iris_dri.so: não é possível abrir arquivo compartilhado: Arquivo ou diretório inexistente (search paths /usr/lib/x86_64-linux-gnu/dri:\\$${ORIGIN}/dri:/usr/lib/dri, suffix _dri)\n",
      "libGL error: failed to load driver: iris\n",
      "libGL error: MESA-LOADER: failed to open swrast: /usr/lib/dri/swrast_dri.so: não é possível abrir arquivo compartilhado: Arquivo ou diretório inexistente (search paths /usr/lib/x86_64-linux-gnu/dri:\\$${ORIGIN}/dri:/usr/lib/dri, suffix _dri)\n",
      "libGL error: failed to load driver: swrast\n"
     ]
    },
    {
     "data": {
      "text/plain": [
       "(-40.0, 40.0)"
      ]
     },
     "execution_count": 8,
     "metadata": {},
     "output_type": "execute_result"
    }
   ],
   "source": [
    "%matplotlib qt\n",
    "fig = plt.figure()\n",
    "ax = fig.add_subplot(projection='3d')\n",
    "ax.scatter(vet_x, vet_y, vet_z, 'o', s = 0.05 )\n",
    "ax.set_xlim3d(-40, 40)\n",
    "ax.set_ylim3d(-40, 40)\n",
    "ax.set_zlim3d(-40, 40)"
   ]
  },
  {
   "cell_type": "code",
   "execution_count": 9,
   "id": "3cb51bc1-fd1a-4fe1-ae38-0a21cd4d1e2b",
   "metadata": {},
   "outputs": [
    {
     "data": {
      "text/plain": [
       "(-40.0, 40.0)"
      ]
     },
     "execution_count": 9,
     "metadata": {},
     "output_type": "execute_result"
    }
   ],
   "source": [
    "fig = plt.figure()\n",
    "ax = fig.add_subplot()\n",
    "ax.scatter(vet_y, vet_z, s= 0.1)\n",
    "ax.set_xlim(-40, 40)\n",
    "ax.set_ylim(-40, 40)"
   ]
  },
  {
   "cell_type": "code",
   "execution_count": 10,
   "id": "7f5dbb05-9c9e-4f47-a0f2-967fb92446e3",
   "metadata": {},
   "outputs": [],
   "source": [
    "arq.close()"
   ]
  },
  {
   "cell_type": "code",
   "execution_count": null,
   "id": "3e4dde64-c840-446b-9e70-d2f983a98ded",
   "metadata": {},
   "outputs": [],
   "source": [
    "arq = open_file(\"IC/Esfera_Original.hdf5\", \"r\")"
   ]
  },
  {
   "cell_type": "code",
   "execution_count": null,
   "id": "7ba6fa94-5de2-4d35-b66d-23440a0e5508",
   "metadata": {},
   "outputs": [],
   "source": [
    "arq.root.PartType2.Coordinates[::]"
   ]
  },
  {
   "cell_type": "code",
   "execution_count": null,
   "id": "7caf132f-1276-4bf7-a6e4-45f4ab7c0933",
   "metadata": {},
   "outputs": [],
   "source": [
    "z = arq.root.PartType2.Coordinates[:,[2]].flatten()\n",
    " = arq.root.PartType2.Coordinates[:,[2]].flatten()"
   ]
  },
  {
   "cell_type": "code",
   "execution_count": null,
   "id": "393b9bfd-8263-4bd7-a41e-7c25eba5cf91",
   "metadata": {},
   "outputs": [],
   "source": [
    "z"
   ]
  },
  {
   "cell_type": "code",
   "execution_count": null,
   "id": "91090d86-09c7-4602-adf1-58093231b052",
   "metadata": {},
   "outputs": [],
   "source": [
    "## Funcionando\n",
    "\n",
    "def density_profile(z, p, m, h):\n",
    "    const = m/(4*np.pi*h**2)\n",
    "    return const*np.exp(-np.abs(p)/h)*(1/np.cosh(z))**2\n",
    "\n",
    "def density_ana(data):\n",
    "    arq = open_file(f\"output/{data}.hdf5\", \"r\")\n",
    "    x, y, z = arq.root.PartType2.Coordinates[:,[0]].flatten(), arq.root.PartType2.Coordinates[:,[1]].flatten(), arq.root.PartType2.Coordinates[:,[2]].flatten()\n",
    "    r = np.sqrt(x**2 + y**2)\n",
    "    p = np.sqrt(r**2 - z**2)\n",
    "    arq.close()\n",
    "    return p, z\n",
    "    "
   ]
  },
  {
   "cell_type": "code",
   "execution_count": null,
   "id": "d62b3d40-b165-440a-b3fa-cd3c403dfb1e",
   "metadata": {},
   "outputs": [],
   "source": []
  },
  {
   "cell_type": "code",
   "execution_count": null,
   "id": "c035b535-1396-45ce-a7f6-c17106b18458",
   "metadata": {},
   "outputs": [],
   "source": [
    "data = open_file(\"Data/IC_file.hdf5\", \"r\")"
   ]
  },
  {
   "cell_type": "code",
   "execution_count": null,
   "id": "f9913761-ac81-479a-85a2-31cabe5f5994",
   "metadata": {},
   "outputs": [],
   "source": [
    "vet = data.root.PartType2.Velocities[:]"
   ]
  },
  {
   "cell_type": "code",
   "execution_count": null,
   "id": "f414841a-e98c-4f15-bffc-9660cefcd590",
   "metadata": {},
   "outputs": [],
   "source": [
    "vet_c = data.root.PartType2.Coordinates[:]"
   ]
  },
  {
   "cell_type": "code",
   "execution_count": null,
   "id": "5a0a9ab4-8532-417f-9fb5-b1be42861541",
   "metadata": {},
   "outputs": [],
   "source": [
    "mask = np.abs(vet_c[:,0]) < 0.5"
   ]
  },
  {
   "cell_type": "code",
   "execution_count": null,
   "id": "bf517493-1d01-4370-bb59-f2a32ea14539",
   "metadata": {},
   "outputs": [],
   "source": [
    "plt.scatter(vet_c[mask,1], vet_c[mask,2], c = vet[mask,0], cmap=\"Spectral\")\n",
    "plt.colorbar()"
   ]
  },
  {
   "cell_type": "code",
   "execution_count": null,
   "id": "ff95a216-494e-44c6-9620-0df4821f8fd5",
   "metadata": {},
   "outputs": [],
   "source": []
  }
 ],
 "metadata": {
  "kernelspec": {
   "display_name": "Python 3 (ipykernel)",
   "language": "python",
   "name": "python3"
  },
  "language_info": {
   "codemirror_mode": {
    "name": "ipython",
    "version": 3
   },
   "file_extension": ".py",
   "mimetype": "text/x-python",
   "name": "python",
   "nbconvert_exporter": "python",
   "pygments_lexer": "ipython3",
   "version": "3.9.7"
  }
 },
 "nbformat": 4,
 "nbformat_minor": 5
}
